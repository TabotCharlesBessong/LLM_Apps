{
 "cells": [
  {
   "cell_type": "code",
   "execution_count": 11,
   "metadata": {},
   "outputs": [],
   "source": [
    "import pandas as pd\n",
    "import seaborn as sns\n",
    "import matplotlib.pyplot as plt\n",
    "import numpy as np"
   ]
  },
  {
   "cell_type": "code",
   "execution_count": null,
   "metadata": {},
   "outputs": [],
   "source": [
    "data = pd.read_csv(\"../DATA/books.csv\")\n",
    "data.head()"
   ]
  },
  {
   "cell_type": "code",
   "execution_count": null,
   "metadata": {},
   "outputs": [],
   "source": [
    "# data.description\n",
    "print((data.isna().sum() * 100) / len(data))"
   ]
  },
  {
   "cell_type": "code",
   "execution_count": null,
   "metadata": {},
   "outputs": [],
   "source": [
    "ax = plt.axes()\n",
    "sns.heatmap(data.isna().transpose(),cbar=False,ax=ax)\n",
    "\n",
    "plt.xlabel(\"Columns\")\n",
    "plt.ylabel(\"Missing values\")\n",
    "\n",
    "plt.show()"
   ]
  },
  {
   "cell_type": "code",
   "execution_count": null,
   "metadata": {},
   "outputs": [],
   "source": [
    "data[\"missing_description\"] = np.where(data[\"description\"].isna(),1,0)\n",
    "data[\"age_of_book\"] = 2024 - data[\"published_year\"]\n",
    "data.head()"
   ]
  },
  {
   "cell_type": "code",
   "execution_count": null,
   "metadata": {},
   "outputs": [],
   "source": [
    "columns_of_interest = [\"num_pages\",\"age_of_book\",\"missing_description\",\"average_rating\"]\n",
    "\n",
    "correlation_matrix = data[columns_of_interest].corr(method=\"spearman\")\n",
    "\n",
    "sns.set_theme(style=\"white\")\n",
    "plt.figure(figsize=(8,6))\n",
    "heatmap = sns.heatmap(correlation_matrix,annot=True, fmt=\".2f\",cmap=\"coolwarm\",cbar_kws={\"label\":\"Spearman correlation\"})\n",
    "heatmap.set_title(\"Correlation heatmap\")\n",
    "plt.show()"
   ]
  },
  {
   "cell_type": "code",
   "execution_count": null,
   "metadata": {},
   "outputs": [],
   "source": [
    "data[(data[\"description\"].isna()) | (data[\"num_pages\"].isna()) | (data[\"average_rating\"].isna()) | (data['published_year'].isna())]"
   ]
  },
  {
   "cell_type": "code",
   "execution_count": null,
   "metadata": {},
   "outputs": [],
   "source": [
    "# data[(data[\"description\"].isna()) & (data[\"num_pages\"].isna()) & (data[\"average_rating\"].isna()) & (data['published_year'].isna())]"
   ]
  },
  {
   "cell_type": "code",
   "execution_count": null,
   "metadata": {},
   "outputs": [],
   "source": [
    "data_missing = data[~(data[\"description\"].isna()) | ~(data[\"num_pages\"].isna()) | ~(data[\"average_rating\"].isna()) | ~(data['published_year'].isna())]\n",
    "data_missing"
   ]
  },
  {
   "cell_type": "code",
   "execution_count": null,
   "metadata": {},
   "outputs": [],
   "source": [
    "data_missing[\"categories\"].value_counts().reset_index().sort_values(\"count\",ascending=False).head(15)"
   ]
  },
  {
   "cell_type": "code",
   "execution_count": null,
   "metadata": {},
   "outputs": [],
   "source": [
    "data_missing[\"words_in_description\"] = data_missing[\"description\"].str.split(\" \").str.len()\n",
    "data_missing.head()"
   ]
  },
  {
   "cell_type": "code",
   "execution_count": null,
   "metadata": {},
   "outputs": [],
   "source": [
    "data_missing.loc[data_missing[\"words_in_description\"].between(5,14), \"description\"]\n",
    "# len(data_missing.loc[data_missing[\"words_in_description\"].between(1,4), \"description\"])"
   ]
  },
  {
   "cell_type": "code",
   "execution_count": null,
   "metadata": {},
   "outputs": [],
   "source": [
    "data_missing_25_words = data_missing[data_missing[\"words_in_description\"] >= 25 ]\n",
    "data_missing_25_words.head()"
   ]
  },
  {
   "cell_type": "code",
   "execution_count": null,
   "metadata": {},
   "outputs": [],
   "source": [
    "data_missing_25_words[\"title_and_subtitle\"] = (np.where(data_missing_25_words[\"subtitle\"].isna(),data_missing_25_words[\"title\"],data_missing_25_words[[\"title\",\"subtitle\"]].astype(str).agg(\": \".join,axis=1)))"
   ]
  },
  {
   "cell_type": "code",
   "execution_count": null,
   "metadata": {},
   "outputs": [],
   "source": [
    "data_missing_25_words.head()"
   ]
  },
  {
   "cell_type": "code",
   "execution_count": null,
   "metadata": {},
   "outputs": [],
   "source": [
    "data_missing_25_words[\"tagged_description\"] = data_missing_25_words[[\"isbn13\",\"description\"]].astype(str).agg(\" \".join,axis=1)\n",
    "data_missing_25_words.head()"
   ]
  },
  {
   "cell_type": "code",
   "execution_count": 34,
   "metadata": {},
   "outputs": [],
   "source": [
    "(data_missing_25_words.drop([\"subtitle\",\"missing_description\",\"age_of_book\",\"words_in_description\"],axis=1).to_csv(\"../DATA/books_cleaned.csv\",index=False))"
   ]
  },
  {
   "cell_type": "code",
   "execution_count": null,
   "metadata": {},
   "outputs": [],
   "source": []
  }
 ],
 "metadata": {
  "kernelspec": {
   "display_name": "base",
   "language": "python",
   "name": "python3"
  },
  "language_info": {
   "codemirror_mode": {
    "name": "ipython",
    "version": 3
   },
   "file_extension": ".py",
   "mimetype": "text/x-python",
   "name": "python",
   "nbconvert_exporter": "python",
   "pygments_lexer": "ipython3",
   "version": "3.12.7"
  }
 },
 "nbformat": 4,
 "nbformat_minor": 2
}
